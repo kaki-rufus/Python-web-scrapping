{
 "cells": [
  {
   "cell_type": "code",
   "execution_count": 6,
   "id": "18226f6b",
   "metadata": {},
   "outputs": [],
   "source": [
    "# BeautifulSoup works by getting the html tags responsible for displaying a text \n",
    "# !pip install beautifulsoup4"
   ]
  },
  {
   "cell_type": "code",
   "execution_count": 7,
   "id": "5e6e79b3",
   "metadata": {},
   "outputs": [],
   "source": [
    "# request is needed since we are going to send a request to a web page and get info back\n",
    "# !pip install requests"
   ]
  },
  {
   "cell_type": "code",
   "execution_count": 19,
   "id": "18b7f7ae",
   "metadata": {},
   "outputs": [],
   "source": [
    "from bs4 import BeautifulSoup\n",
    "import requests\n",
    "from csv import writer"
   ]
  },
  {
   "cell_type": "code",
   "execution_count": 10,
   "id": "4ba46bcb",
   "metadata": {},
   "outputs": [
    {
     "name": "stdout",
     "output_type": "stream",
     "text": [
      "<Response [200]>\n"
     ]
    }
   ],
   "source": [
    "url = 'https://www.pararius.com/apartments/amsterdam'\n",
    "page = requests.get(url)\n",
    "\n",
    "print(page)"
   ]
  },
  {
   "cell_type": "markdown",
   "id": "2b66a937",
   "metadata": {},
   "source": [
    "### Responses you get\n",
    "- Informational response (100-199)\n",
    "- Successful response (200- 299)\n",
    "- Redirects (300 - 399)\n",
    "- Client errors (400-499)\n",
    "- Server errors(500 - 599)"
   ]
  },
  {
   "cell_type": "code",
   "execution_count": 12,
   "id": "5f1a06ce",
   "metadata": {},
   "outputs": [],
   "source": [
    "# create an object soup \n",
    "soup = BeautifulSoup(page.content, 'html.parser')\n",
    "\n",
    "# get the source code of the html document\n",
    "# print(soup)"
   ]
  },
  {
   "cell_type": "code",
   "execution_count": 20,
   "id": "ec918f81",
   "metadata": {},
   "outputs": [],
   "source": [
    "# returns a list which can be looped over\n",
    "# for list in soup.find_all('section', class_='listing-search-item')\n",
    "lists = soup.find_all('section', class_='listing-search-item')\n",
    "\n",
    "# get title, location, price and area\n",
    "\n",
    "with open('houses.csv', 'w', encoding='utf8', newline='') as f:\n",
    "    thewriter = writer(f)\n",
    "    header = ['Title', 'Location', 'Price', 'Area']\n",
    "    thewriter.writerow(header)\n",
    "    \n",
    "    for list in lists:\n",
    "        title = list.find('a', class_='listing-search-item__link--title').text.replace('\\n', ' ')\n",
    "        location = list.find('div', class_='listing-search-item__sub-title').text.replace('\\n', ' ')    \n",
    "        price = list.find('div', class_='listing-search-item__price').text.replace('\\n', ' ')   \n",
    "        area = list.find('li', class_='illustrated-features__item illustrated-features__item--surface-area').text.replace('\\n', ' ')   \n",
    "\n",
    "        info = [title, location, price, area]\n",
    "        thewriter.writerow(info)\n",
    "#         print(info)"
   ]
  },
  {
   "cell_type": "code",
   "execution_count": 23,
   "id": "29bcbcec",
   "metadata": {},
   "outputs": [],
   "source": [
    "# install html parsers\n",
    "# !pip install lxml\n",
    "# !pip install html5lib"
   ]
  },
  {
   "cell_type": "code",
   "execution_count": 78,
   "id": "2e3a5a59",
   "metadata": {},
   "outputs": [
    {
     "name": "stdout",
     "output_type": "stream",
     "text": [
      "kAkIhOtEl\n"
     ]
    }
   ],
   "source": [
    "from bs4 import BeautifulSoup\n",
    "import requests\n",
    "import csv\n",
    "\n",
    "with open('index.html') as html_file:\n",
    "    soup = BeautifulSoup(html_file, 'lxml')\n",
    "    \n",
    "# print(soup.prettify())\n",
    "# match = soup.title.text\n",
    "match = soup.find('div', class_='logo')\n",
    "logo_heading = match.a.h1.text\n",
    "print(logo_heading)\n",
    "\n",
    "# print(match.prettify())"
   ]
  },
  {
   "cell_type": "code",
   "execution_count": 50,
   "id": "1157a054",
   "metadata": {},
   "outputs": [],
   "source": [
    "source = requests.get('http://coreyms.com').text\n",
    "# print(source)"
   ]
  },
  {
   "cell_type": "code",
   "execution_count": 79,
   "id": "99636263",
   "metadata": {},
   "outputs": [
    {
     "name": "stdout",
     "output_type": "stream",
     "text": [
      "Python Tutorial: Zip Files – Creating and Extracting Zip Archives\n",
      "In this video, we will be learning how to create and extract zip archives. We will start by using the zipfile module, and then we will see how to do this using the shutil module. We will learn how to do this with single files and directories, as well as learning how to use gzip as well. Let’s get started…\n",
      "https://youtube.com/watch?v=z0gguhEmWiY\n",
      "\n",
      "Python Data Science Tutorial: Analyzing the 2019 Stack Overflow Developer Survey\n",
      "In this Python Programming video, we will be learning how to download and analyze real-world data from the 2019 Stack Overflow Developer Survey. This is terrific practice for anyone getting into the data science field. We will learn different ways to analyze this data and also some best practices. Let’s get started…\n",
      "https://youtube.com/watch?v=_P7X8tMplsw\n",
      "\n",
      "Python Multiprocessing Tutorial: Run Code in Parallel Using the Multiprocessing Module\n",
      "In this Python Programming video, we will be learning how to run code in parallel using the multiprocessing module. We will also look at how to process multiple high-resolution images at the same time using a ProcessPoolExecutor from the concurrent.futures module. Let’s get started…\n",
      "https://youtube.com/watch?v=fKl2JW_qrso\n",
      "\n",
      "Python Threading Tutorial: Run Code Concurrently Using the Threading Module\n",
      "In this Python Programming video, we will be learning how to run threads concurrently using the threading module. We will also look at how to download multiple high-resolution images online using a ThreadPoolExecutor from the concurrent.futures module. Let’s get started…\n",
      "https://youtube.com/watch?v=IEEhzQoKtQU\n",
      "\n",
      "Update (2019-09-03)\n",
      "Hey everyone. I wanted to give you an update on my videos. I will be releasing videos on threading and multiprocessing within the next week. Thanks so much for your patience. I currently have a temporary recording studio setup at my Airbnb that will allow me to record and edit the threading/multiprocessing videos. I am going to be moving into my new house in 10 days and once I have my recording studio setup then you can expect much faster video releases. I really appreciate how patient everyone has been while I go through this move, especially those of you who are contributing monthly through YouTube \n",
      "None\n",
      "\n",
      "Python Quick Tip: The Difference Between “==” and “is” (Equality vs Identity)\n",
      "In this Python Programming Tutorial, we will be learning the difference between using “==” and the “is” keyword when doing comparisons. The difference between these is that “==” checks to see if values are equal, and the “is” keyword checks their identity, which means it’s going to check if the values are identical in terms of being the same object in memory. We’ll learn more in the video. Let’s get started…\n",
      "https://youtube.com/watch?v=mO_dS3rXDIs\n",
      "\n",
      "Python Tutorial: Calling External Commands Using the Subprocess Module\n",
      "In this Python Programming Tutorial, we will be learning how to run external commands using the subprocess module from the standard library. We will learn how to run commands, capture the output, handle errors, and also how to pipe output into other commands. Let’s get started…\n",
      "https://youtube.com/watch?v=2Fp1N6dof0Y\n",
      "\n",
      "Visual Studio Code (Windows) – Setting up a Python Development Environment and Complete Overview\n",
      "In this Python Programming Tutorial, we will be learning how to set up a Python development environment in VSCode on Windows. VSCode is a very nice free editor for writing Python applications and many developers are now switching over to this editor. In this video, we will learn how to install VSCode, get the Python extension installed, how to change Python interpreters, create virtual environments, format/lint our code, how to use Git within VSCode, how to debug our programs, how unit testing works, and more. We have a lot to cover, so let’s go ahead and get started…\n",
      "https://youtube.com/watch?v=-nh9rCzPJ20\n",
      "\n",
      "Visual Studio Code (Mac) – Setting up a Python Development Environment and Complete Overview\n",
      "In this Python Programming Tutorial, we will be learning how to set up a Python development environment in VSCode on MacOS. VSCode is a very nice free editor for writing Python applications and many developers are now switching over to this editor. In this video, we will learn how to install VSCode, get the Python extension installed, how to change Python interpreters, create virtual environments, format/lint our code, how to use Git within VSCode, how to debug our programs, how unit testing works, and more. We have a lot to cover, so let’s go ahead and get started…\n",
      "https://youtube.com/watch?v=06I63_p-2A4\n",
      "\n",
      "Clarifying the Issues with Mutable Default Arguments\n",
      "In this Python Programming Tutorial, we will be clarifying the issues with mutable default arguments. We discussed this in my last video titled “5 Common Python Mistakes and How to Fix Them”, but I received many comments from people who were still confused. So we will be doing a deeper dive to explain exactly what is going on here. Let’s get started…\n",
      "https://youtube.com/watch?v=_JGmemuINww\n",
      "\n"
     ]
    }
   ],
   "source": [
    "soup = BeautifulSoup(source, 'lxml')\n",
    "# print(soup.prettify())\n",
    "\n",
    "\n",
    "csv_file = open('cms_scrape.csv', 'w')\n",
    "csv_writer = csv.writer(csv_file)\n",
    "csv_writer.writerow(['headline', 'summary', 'video_link'])\n",
    "\n",
    "\n",
    "for article in soup.find_all('article'):\n",
    "    # print(article.prettify())\n",
    "\n",
    "    headline = article.h2.a.text\n",
    "    print(headline)\n",
    "\n",
    "    summary = article.find('div', class_='entry-content').p.text\n",
    "    print(summary)\n",
    "    \n",
    "    try:\n",
    "        vid_src = article.find('iframe', class_= 'youtube-player')['src']\n",
    "        # print(vid_src)\n",
    "\n",
    "        vid_id = vid_src.split('/')[4]\n",
    "        vid_id = vid_id.split('?')[0]\n",
    "#     print(vid_id)\n",
    "        yt_link = f'https://youtube.com/watch?v={vid_id}'\n",
    "    except Exception as e:\n",
    "        yt_link = None\n",
    "    print(yt_link)\n",
    "    \n",
    "    print()\n",
    "    \n",
    "    csv_writer.writerow([headline, summary, yt_link])\n",
    "    \n",
    "csv_file.close()"
   ]
  },
  {
   "cell_type": "code",
   "execution_count": null,
   "id": "24f453a5",
   "metadata": {},
   "outputs": [],
   "source": []
  }
 ],
 "metadata": {
  "kernelspec": {
   "display_name": "Python 3",
   "language": "python",
   "name": "python3"
  },
  "language_info": {
   "codemirror_mode": {
    "name": "ipython",
    "version": 3
   },
   "file_extension": ".py",
   "mimetype": "text/x-python",
   "name": "python",
   "nbconvert_exporter": "python",
   "pygments_lexer": "ipython3",
   "version": "3.8.8"
  }
 },
 "nbformat": 4,
 "nbformat_minor": 5
}
